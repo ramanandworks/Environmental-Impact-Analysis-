{
 "cells": [
  {
   "cell_type": "code",
   "execution_count": 1,
   "metadata": {},
   "outputs": [],
   "source": [
    "import os\n",
    "import pandas as pd"
   ]
  },
  {
   "cell_type": "code",
   "execution_count": 2,
   "metadata": {},
   "outputs": [],
   "source": [
    "air_quality = pd.read_csv(\"../data/raw/Air_Quality.csv\")\n",
    "water_quality = pd.read_csv(\"../data/raw/BKB_WaterQualityData_2020084.csv\")\n",
    "deforestation = pd.read_csv(\"../data/raw/goal15.forest_shares.csv\")"
   ]
  },
  {
   "cell_type": "code",
   "execution_count": 3,
   "metadata": {},
   "outputs": [],
   "source": [
    "processed_dir = \"../data/processed\"\n",
    "os.makedirs(processed_dir, exist_ok=True)"
   ]
  },
  {
   "cell_type": "code",
   "execution_count": 4,
   "metadata": {},
   "outputs": [],
   "source": [
    "air_quality_cleaned = air_quality.drop(columns=[\"Unique ID\", \"Indicator ID\", \"Message\"], errors=\"ignore\")\n",
    "air_quality_cleaned = air_quality_cleaned.dropna(subset=[\"Geo Join ID\", \"Geo Place Name\"])"
   ]
  },
  {
   "cell_type": "code",
   "execution_count": 5,
   "metadata": {},
   "outputs": [],
   "source": [
    "columns_to_drop_water = [\"Unit_Id\", \"DateVerified\", \"WhoVerified\", \"Field_Tech\", \"Air Temp-Celsius\", \"Time (24:00)\"]\n",
    "water_quality_cleaned = water_quality.drop(columns=columns_to_drop_water, errors=\"ignore\")\n",
    "water_quality_cleaned = water_quality_cleaned.dropna(subset=[\"Dissolved Oxygen (mg/L)\", \"Water Temp (?C)\"])"
   ]
  },
  {
   "cell_type": "code",
   "execution_count": 6,
   "metadata": {},
   "outputs": [],
   "source": [
    "deforestation_cleaned = deforestation.dropna(subset=[\"trend\"])"
   ]
  },
  {
   "cell_type": "code",
   "execution_count": 7,
   "metadata": {},
   "outputs": [],
   "source": [
    "air_quality_cleaned_path = os.path.join(processed_dir, \"air_quality_cleaned.csv\")\n",
    "water_quality_cleaned_path = os.path.join(processed_dir, \"water_quality_cleaned.csv\")\n",
    "deforestation_cleaned_path = os.path.join(processed_dir, \"deforestation_cleaned.csv\")"
   ]
  },
  {
   "cell_type": "code",
   "execution_count": 8,
   "metadata": {},
   "outputs": [],
   "source": [
    "air_quality_cleaned.to_csv(air_quality_cleaned_path, index=False)\n",
    "water_quality_cleaned.to_csv(water_quality_cleaned_path, index=False)\n",
    "deforestation_cleaned.to_csv(deforestation_cleaned_path, index=False)"
   ]
  },
  {
   "cell_type": "code",
   "execution_count": null,
   "metadata": {},
   "outputs": [],
   "source": []
  }
 ],
 "metadata": {
  "kernelspec": {
   "display_name": "Python 3",
   "language": "python",
   "name": "python3"
  },
  "language_info": {
   "codemirror_mode": {
    "name": "ipython",
    "version": 3
   },
   "file_extension": ".py",
   "mimetype": "text/x-python",
   "name": "python",
   "nbconvert_exporter": "python",
   "pygments_lexer": "ipython3",
   "version": "3.12.3"
  }
 },
 "nbformat": 4,
 "nbformat_minor": 2
}
