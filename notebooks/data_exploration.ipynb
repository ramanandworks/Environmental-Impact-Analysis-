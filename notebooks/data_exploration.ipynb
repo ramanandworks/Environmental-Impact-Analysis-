{
 "cells": [
  {
   "cell_type": "code",
   "execution_count": 1,
   "metadata": {},
   "outputs": [],
   "source": [
    "import pandas as pd\n",
    "import matplotlib.pyplot as plt\n",
    "import seaborn as sns\n",
    "import os"
   ]
  },
  {
   "cell_type": "code",
   "execution_count": null,
   "metadata": {},
   "outputs": [],
   "source": [
    "air_quality = pd.read_csv(\"../data/raw/Air_Quality.csv\")\n",
    "water_quality = pd.read_csv(\"../data/raw/BKB_WaterQualityData_2020084.csv\")\n",
    "deforestation = pd.read_csv(\"../data/raw/goal15.forest_shares.csv\")"
   ]
  },
  {
   "cell_type": "code",
   "execution_count": 11,
   "metadata": {},
   "outputs": [
    {
     "name": "stdout",
     "output_type": "stream",
     "text": [
      "Air Quality Dataset\n",
      "<class 'pandas.core.frame.DataFrame'>\n",
      "RangeIndex: 18025 entries, 0 to 18024\n",
      "Data columns (total 12 columns):\n",
      " #   Column          Non-Null Count  Dtype  \n",
      "---  ------          --------------  -----  \n",
      " 0   Unique ID       18025 non-null  int64  \n",
      " 1   Indicator ID    18025 non-null  int64  \n",
      " 2   Name            18025 non-null  object \n",
      " 3   Measure         18025 non-null  object \n",
      " 4   Measure Info    18025 non-null  object \n",
      " 5   Geo Type Name   18025 non-null  object \n",
      " 6   Geo Join ID     18016 non-null  float64\n",
      " 7   Geo Place Name  18016 non-null  object \n",
      " 8   Time Period     18025 non-null  object \n",
      " 9   Start_Date      18025 non-null  object \n",
      " 10  Data Value      18025 non-null  float64\n",
      " 11  Message         0 non-null      float64\n",
      "dtypes: float64(3), int64(2), object(7)\n",
      "memory usage: 1.7+ MB\n"
     ]
    },
    {
     "data": {
      "text/plain": [
       "None"
      ]
     },
     "metadata": {},
     "output_type": "display_data"
    },
    {
     "data": {
      "text/html": [
       "<div>\n",
       "<style scoped>\n",
       "    .dataframe tbody tr th:only-of-type {\n",
       "        vertical-align: middle;\n",
       "    }\n",
       "\n",
       "    .dataframe tbody tr th {\n",
       "        vertical-align: top;\n",
       "    }\n",
       "\n",
       "    .dataframe thead th {\n",
       "        text-align: right;\n",
       "    }\n",
       "</style>\n",
       "<table border=\"1\" class=\"dataframe\">\n",
       "  <thead>\n",
       "    <tr style=\"text-align: right;\">\n",
       "      <th></th>\n",
       "      <th>Unique ID</th>\n",
       "      <th>Indicator ID</th>\n",
       "      <th>Geo Join ID</th>\n",
       "      <th>Data Value</th>\n",
       "      <th>Message</th>\n",
       "    </tr>\n",
       "  </thead>\n",
       "  <tbody>\n",
       "    <tr>\n",
       "      <th>count</th>\n",
       "      <td>18025.000000</td>\n",
       "      <td>18025.000000</td>\n",
       "      <td>1.801600e+04</td>\n",
       "      <td>18025.000000</td>\n",
       "      <td>0.0</td>\n",
       "    </tr>\n",
       "    <tr>\n",
       "      <th>mean</th>\n",
       "      <td>426387.692705</td>\n",
       "      <td>434.830180</td>\n",
       "      <td>5.906303e+05</td>\n",
       "      <td>21.428616</td>\n",
       "      <td>NaN</td>\n",
       "    </tr>\n",
       "    <tr>\n",
       "      <th>std</th>\n",
       "      <td>250489.450630</td>\n",
       "      <td>115.852371</td>\n",
       "      <td>7.769549e+06</td>\n",
       "      <td>23.999345</td>\n",
       "      <td>NaN</td>\n",
       "    </tr>\n",
       "    <tr>\n",
       "      <th>min</th>\n",
       "      <td>121644.000000</td>\n",
       "      <td>365.000000</td>\n",
       "      <td>1.000000e+00</td>\n",
       "      <td>0.000000</td>\n",
       "      <td>NaN</td>\n",
       "    </tr>\n",
       "    <tr>\n",
       "      <th>25%</th>\n",
       "      <td>175303.000000</td>\n",
       "      <td>365.000000</td>\n",
       "      <td>2.020000e+02</td>\n",
       "      <td>8.900000</td>\n",
       "      <td>NaN</td>\n",
       "    </tr>\n",
       "    <tr>\n",
       "      <th>50%</th>\n",
       "      <td>410803.000000</td>\n",
       "      <td>375.000000</td>\n",
       "      <td>3.030000e+02</td>\n",
       "      <td>15.200000</td>\n",
       "      <td>NaN</td>\n",
       "    </tr>\n",
       "    <tr>\n",
       "      <th>75%</th>\n",
       "      <td>649893.000000</td>\n",
       "      <td>386.000000</td>\n",
       "      <td>4.040000e+02</td>\n",
       "      <td>26.700000</td>\n",
       "      <td>NaN</td>\n",
       "    </tr>\n",
       "    <tr>\n",
       "      <th>max</th>\n",
       "      <td>828353.000000</td>\n",
       "      <td>661.000000</td>\n",
       "      <td>1.051061e+08</td>\n",
       "      <td>424.700000</td>\n",
       "      <td>NaN</td>\n",
       "    </tr>\n",
       "  </tbody>\n",
       "</table>\n",
       "</div>"
      ],
      "text/plain": [
       "           Unique ID  Indicator ID   Geo Join ID    Data Value  Message\n",
       "count   18025.000000  18025.000000  1.801600e+04  18025.000000      0.0\n",
       "mean   426387.692705    434.830180  5.906303e+05     21.428616      NaN\n",
       "std    250489.450630    115.852371  7.769549e+06     23.999345      NaN\n",
       "min    121644.000000    365.000000  1.000000e+00      0.000000      NaN\n",
       "25%    175303.000000    365.000000  2.020000e+02      8.900000      NaN\n",
       "50%    410803.000000    375.000000  3.030000e+02     15.200000      NaN\n",
       "75%    649893.000000    386.000000  4.040000e+02     26.700000      NaN\n",
       "max    828353.000000    661.000000  1.051061e+08    424.700000      NaN"
      ]
     },
     "metadata": {},
     "output_type": "display_data"
    }
   ],
   "source": [
    "print(\"Air Quality Dataset\")\n",
    "display(air_quality.info())\n",
    "display(air_quality.describe())"
   ]
  },
  {
   "cell_type": "code",
   "execution_count": 12,
   "metadata": {},
   "outputs": [
    {
     "name": "stdout",
     "output_type": "stream",
     "text": [
      "Water Quality Dataset\n",
      "<class 'pandas.core.frame.DataFrame'>\n",
      "RangeIndex: 2371 entries, 0 to 2370\n",
      "Data columns (total 17 columns):\n",
      " #   Column                   Non-Null Count  Dtype  \n",
      "---  ------                   --------------  -----  \n",
      " 0   Site_Id                  2370 non-null   object \n",
      " 1   Unit_Id                  32 non-null     object \n",
      " 2   Read_Date                2366 non-null   object \n",
      " 3   Salinity (ppt)           2241 non-null   float64\n",
      " 4   Dissolved Oxygen (mg/L)  1520 non-null   float64\n",
      " 5   pH (standard units)      2276 non-null   float64\n",
      " 6   Secchi Depth (m)         2298 non-null   float64\n",
      " 7   Water Depth (m)          2300 non-null   float64\n",
      " 8   Water Temp (?C)          2250 non-null   float64\n",
      " 9   Air Temp-Celsius         85 non-null     float64\n",
      " 10  Air Temp (?F)            2300 non-null   float64\n",
      " 11  Time (24:00)             2308 non-null   object \n",
      " 12  Field_Tech               2332 non-null   object \n",
      " 13  DateVerified             453 non-null    object \n",
      " 14  WhoVerified              453 non-null    object \n",
      " 15  AirTemp (C)              2371 non-null   float64\n",
      " 16  Year                     2371 non-null   int64  \n",
      "dtypes: float64(9), int64(1), object(7)\n",
      "memory usage: 315.0+ KB\n"
     ]
    },
    {
     "data": {
      "text/plain": [
       "None"
      ]
     },
     "metadata": {},
     "output_type": "display_data"
    },
    {
     "data": {
      "text/html": [
       "<div>\n",
       "<style scoped>\n",
       "    .dataframe tbody tr th:only-of-type {\n",
       "        vertical-align: middle;\n",
       "    }\n",
       "\n",
       "    .dataframe tbody tr th {\n",
       "        vertical-align: top;\n",
       "    }\n",
       "\n",
       "    .dataframe thead th {\n",
       "        text-align: right;\n",
       "    }\n",
       "</style>\n",
       "<table border=\"1\" class=\"dataframe\">\n",
       "  <thead>\n",
       "    <tr style=\"text-align: right;\">\n",
       "      <th></th>\n",
       "      <th>Salinity (ppt)</th>\n",
       "      <th>Dissolved Oxygen (mg/L)</th>\n",
       "      <th>pH (standard units)</th>\n",
       "      <th>Secchi Depth (m)</th>\n",
       "      <th>Water Depth (m)</th>\n",
       "      <th>Water Temp (?C)</th>\n",
       "      <th>Air Temp-Celsius</th>\n",
       "      <th>Air Temp (?F)</th>\n",
       "      <th>AirTemp (C)</th>\n",
       "      <th>Year</th>\n",
       "    </tr>\n",
       "  </thead>\n",
       "  <tbody>\n",
       "    <tr>\n",
       "      <th>count</th>\n",
       "      <td>2241.000000</td>\n",
       "      <td>1520.000000</td>\n",
       "      <td>2276.000000</td>\n",
       "      <td>2298.000000</td>\n",
       "      <td>2300.000000</td>\n",
       "      <td>2250.000000</td>\n",
       "      <td>85.000000</td>\n",
       "      <td>2300.000000</td>\n",
       "      <td>2371.000000</td>\n",
       "      <td>2371.000000</td>\n",
       "    </tr>\n",
       "    <tr>\n",
       "      <th>mean</th>\n",
       "      <td>0.717068</td>\n",
       "      <td>6.646263</td>\n",
       "      <td>7.168212</td>\n",
       "      <td>0.524898</td>\n",
       "      <td>0.762559</td>\n",
       "      <td>18.062138</td>\n",
       "      <td>16.437647</td>\n",
       "      <td>62.051637</td>\n",
       "      <td>15.663050</td>\n",
       "      <td>2006.049346</td>\n",
       "    </tr>\n",
       "    <tr>\n",
       "      <th>std</th>\n",
       "      <td>1.230819</td>\n",
       "      <td>2.506608</td>\n",
       "      <td>0.788485</td>\n",
       "      <td>0.473663</td>\n",
       "      <td>0.621140</td>\n",
       "      <td>8.298246</td>\n",
       "      <td>11.754138</td>\n",
       "      <td>15.492236</td>\n",
       "      <td>10.314720</td>\n",
       "      <td>9.002373</td>\n",
       "    </tr>\n",
       "    <tr>\n",
       "      <th>min</th>\n",
       "      <td>0.000000</td>\n",
       "      <td>0.000000</td>\n",
       "      <td>0.300000</td>\n",
       "      <td>0.000000</td>\n",
       "      <td>0.010000</td>\n",
       "      <td>0.000000</td>\n",
       "      <td>0.000000</td>\n",
       "      <td>10.500000</td>\n",
       "      <td>-17.777778</td>\n",
       "      <td>1899.000000</td>\n",
       "    </tr>\n",
       "    <tr>\n",
       "      <th>25%</th>\n",
       "      <td>0.000000</td>\n",
       "      <td>4.800000</td>\n",
       "      <td>6.500000</td>\n",
       "      <td>0.300000</td>\n",
       "      <td>0.400000</td>\n",
       "      <td>11.000000</td>\n",
       "      <td>9.000000</td>\n",
       "      <td>49.000000</td>\n",
       "      <td>8.888889</td>\n",
       "      <td>2001.000000</td>\n",
       "    </tr>\n",
       "    <tr>\n",
       "      <th>50%</th>\n",
       "      <td>0.000000</td>\n",
       "      <td>6.500000</td>\n",
       "      <td>7.000000</td>\n",
       "      <td>0.400000</td>\n",
       "      <td>0.650000</td>\n",
       "      <td>19.000000</td>\n",
       "      <td>15.000000</td>\n",
       "      <td>63.000000</td>\n",
       "      <td>16.666667</td>\n",
       "      <td>2007.000000</td>\n",
       "    </tr>\n",
       "    <tr>\n",
       "      <th>75%</th>\n",
       "      <td>1.000000</td>\n",
       "      <td>8.500000</td>\n",
       "      <td>7.500000</td>\n",
       "      <td>0.650000</td>\n",
       "      <td>0.950000</td>\n",
       "      <td>25.000000</td>\n",
       "      <td>21.700000</td>\n",
       "      <td>75.000000</td>\n",
       "      <td>23.888889</td>\n",
       "      <td>2012.000000</td>\n",
       "    </tr>\n",
       "    <tr>\n",
       "      <th>max</th>\n",
       "      <td>9.000000</td>\n",
       "      <td>15.100000</td>\n",
       "      <td>9.900000</td>\n",
       "      <td>9.000000</td>\n",
       "      <td>12.000000</td>\n",
       "      <td>74.000000</td>\n",
       "      <td>74.000000</td>\n",
       "      <td>92.300000</td>\n",
       "      <td>33.500000</td>\n",
       "      <td>2019.000000</td>\n",
       "    </tr>\n",
       "  </tbody>\n",
       "</table>\n",
       "</div>"
      ],
      "text/plain": [
       "       Salinity (ppt)  Dissolved Oxygen (mg/L)  pH (standard units)  \\\n",
       "count     2241.000000              1520.000000          2276.000000   \n",
       "mean         0.717068                 6.646263             7.168212   \n",
       "std          1.230819                 2.506608             0.788485   \n",
       "min          0.000000                 0.000000             0.300000   \n",
       "25%          0.000000                 4.800000             6.500000   \n",
       "50%          0.000000                 6.500000             7.000000   \n",
       "75%          1.000000                 8.500000             7.500000   \n",
       "max          9.000000                15.100000             9.900000   \n",
       "\n",
       "       Secchi Depth (m)  Water Depth (m)  Water Temp (?C)  Air Temp-Celsius  \\\n",
       "count       2298.000000      2300.000000      2250.000000         85.000000   \n",
       "mean           0.524898         0.762559        18.062138         16.437647   \n",
       "std            0.473663         0.621140         8.298246         11.754138   \n",
       "min            0.000000         0.010000         0.000000          0.000000   \n",
       "25%            0.300000         0.400000        11.000000          9.000000   \n",
       "50%            0.400000         0.650000        19.000000         15.000000   \n",
       "75%            0.650000         0.950000        25.000000         21.700000   \n",
       "max            9.000000        12.000000        74.000000         74.000000   \n",
       "\n",
       "       Air Temp (?F)  AirTemp (C)         Year  \n",
       "count    2300.000000  2371.000000  2371.000000  \n",
       "mean       62.051637    15.663050  2006.049346  \n",
       "std        15.492236    10.314720     9.002373  \n",
       "min        10.500000   -17.777778  1899.000000  \n",
       "25%        49.000000     8.888889  2001.000000  \n",
       "50%        63.000000    16.666667  2007.000000  \n",
       "75%        75.000000    23.888889  2012.000000  \n",
       "max        92.300000    33.500000  2019.000000  "
      ]
     },
     "metadata": {},
     "output_type": "display_data"
    }
   ],
   "source": [
    "print(\"Water Quality Dataset\")\n",
    "display(water_quality.info())\n",
    "display(water_quality.describe())"
   ]
  },
  {
   "cell_type": "code",
   "execution_count": 13,
   "metadata": {},
   "outputs": [
    {
     "name": "stdout",
     "output_type": "stream",
     "text": [
      "Deforestation Dataset\n",
      "<class 'pandas.core.frame.DataFrame'>\n",
      "RangeIndex: 237 entries, 0 to 236\n",
      "Data columns (total 4 columns):\n",
      " #   Column        Non-Null Count  Dtype  \n",
      "---  ------        --------------  -----  \n",
      " 0   iso3c         237 non-null    object \n",
      " 1   forests_2000  237 non-null    float64\n",
      " 2   forests_2020  237 non-null    float64\n",
      " 3   trend         227 non-null    float64\n",
      "dtypes: float64(3), object(1)\n",
      "memory usage: 7.5+ KB\n"
     ]
    },
    {
     "data": {
      "text/plain": [
       "None"
      ]
     },
     "metadata": {},
     "output_type": "display_data"
    },
    {
     "data": {
      "text/html": [
       "<div>\n",
       "<style scoped>\n",
       "    .dataframe tbody tr th:only-of-type {\n",
       "        vertical-align: middle;\n",
       "    }\n",
       "\n",
       "    .dataframe tbody tr th {\n",
       "        vertical-align: top;\n",
       "    }\n",
       "\n",
       "    .dataframe thead th {\n",
       "        text-align: right;\n",
       "    }\n",
       "</style>\n",
       "<table border=\"1\" class=\"dataframe\">\n",
       "  <thead>\n",
       "    <tr style=\"text-align: right;\">\n",
       "      <th></th>\n",
       "      <th>forests_2000</th>\n",
       "      <th>forests_2020</th>\n",
       "      <th>trend</th>\n",
       "    </tr>\n",
       "  </thead>\n",
       "  <tbody>\n",
       "    <tr>\n",
       "      <th>count</th>\n",
       "      <td>237.000000</td>\n",
       "      <td>237.000000</td>\n",
       "      <td>227.000000</td>\n",
       "    </tr>\n",
       "    <tr>\n",
       "      <th>mean</th>\n",
       "      <td>32.255274</td>\n",
       "      <td>31.585654</td>\n",
       "      <td>0.104846</td>\n",
       "    </tr>\n",
       "    <tr>\n",
       "      <th>std</th>\n",
       "      <td>25.366225</td>\n",
       "      <td>24.744673</td>\n",
       "      <td>16.863427</td>\n",
       "    </tr>\n",
       "    <tr>\n",
       "      <th>min</th>\n",
       "      <td>0.000000</td>\n",
       "      <td>0.000000</td>\n",
       "      <td>-100.000000</td>\n",
       "    </tr>\n",
       "    <tr>\n",
       "      <th>25%</th>\n",
       "      <td>9.900000</td>\n",
       "      <td>10.400000</td>\n",
       "      <td>-5.500000</td>\n",
       "    </tr>\n",
       "    <tr>\n",
       "      <th>50%</th>\n",
       "      <td>30.300000</td>\n",
       "      <td>30.300000</td>\n",
       "      <td>0.000000</td>\n",
       "    </tr>\n",
       "    <tr>\n",
       "      <th>75%</th>\n",
       "      <td>50.900000</td>\n",
       "      <td>49.800000</td>\n",
       "      <td>4.650000</td>\n",
       "    </tr>\n",
       "    <tr>\n",
       "      <th>max</th>\n",
       "      <td>98.300000</td>\n",
       "      <td>97.400000</td>\n",
       "      <td>86.200000</td>\n",
       "    </tr>\n",
       "  </tbody>\n",
       "</table>\n",
       "</div>"
      ],
      "text/plain": [
       "       forests_2000  forests_2020       trend\n",
       "count    237.000000    237.000000  227.000000\n",
       "mean      32.255274     31.585654    0.104846\n",
       "std       25.366225     24.744673   16.863427\n",
       "min        0.000000      0.000000 -100.000000\n",
       "25%        9.900000     10.400000   -5.500000\n",
       "50%       30.300000     30.300000    0.000000\n",
       "75%       50.900000     49.800000    4.650000\n",
       "max       98.300000     97.400000   86.200000"
      ]
     },
     "metadata": {},
     "output_type": "display_data"
    }
   ],
   "source": [
    "print(\"Deforestation Dataset\")\n",
    "display(deforestation.info())\n",
    "display(deforestation.describe())"
   ]
  },
  {
   "cell_type": "code",
   "execution_count": 14,
   "metadata": {},
   "outputs": [
    {
     "name": "stdout",
     "output_type": "stream",
     "text": [
      "\n",
      "Missing Values:\n",
      "Air Quality Dataset:\n",
      " Unique ID             0\n",
      "Indicator ID          0\n",
      "Name                  0\n",
      "Measure               0\n",
      "Measure Info          0\n",
      "Geo Type Name         0\n",
      "Geo Join ID           9\n",
      "Geo Place Name        9\n",
      "Time Period           0\n",
      "Start_Date            0\n",
      "Data Value            0\n",
      "Message           18025\n",
      "dtype: int64\n",
      "\n",
      "Water Quality Dataset:\n",
      " Site_Id                       1\n",
      "Unit_Id                    2339\n",
      "Read_Date                     5\n",
      "Salinity (ppt)              130\n",
      "Dissolved Oxygen (mg/L)     851\n",
      "pH (standard units)          95\n",
      "Secchi Depth (m)             73\n",
      "Water Depth (m)              71\n",
      "Water Temp (?C)             121\n",
      "Air Temp-Celsius           2286\n",
      "Air Temp (?F)                71\n",
      "Time (24:00)                 63\n",
      "Field_Tech                   39\n",
      "DateVerified               1918\n",
      "WhoVerified                1918\n",
      "AirTemp (C)                   0\n",
      "Year                          0\n",
      "dtype: int64\n",
      "\n",
      "Deforestation Dataset:\n",
      " iso3c            0\n",
      "forests_2000     0\n",
      "forests_2020     0\n",
      "trend           10\n",
      "dtype: int64\n"
     ]
    }
   ],
   "source": [
    "print(\"\\nMissing Values:\")\n",
    "print(\"Air Quality Dataset:\\n\", air_quality.isnull().sum())\n",
    "print(\"\\nWater Quality Dataset:\\n\", water_quality.isnull().sum())\n",
    "print(\"\\nDeforestation Dataset:\\n\", deforestation.isnull().sum())"
   ]
  },
  {
   "cell_type": "code",
   "execution_count": 15,
   "metadata": {},
   "outputs": [
    {
     "data": {
      "image/png": "[encoded data removed]",
      "text/plain": [
       "<Figure size 1000x600 with 1 Axes>"
      ]
     },
     "metadata": {},
     "output_type": "display_data"
    }
   ],
   "source": [
    "plt.figure(figsize=(10, 6))\n",
    "sns.histplot(air_quality['Data Value'], bins=30, kde=True, color='blue')\n",
    "plt.title(\"Distribution of Air Quality Measurements\")\n",
    "plt.xlabel(\"Data Value\")\n",
    "plt.ylabel(\"Frequency\")\n",
    "plt.show()"
   ]
  },
  {
   "cell_type": "code",
   "execution_count": 16,
   "metadata": {},
   "outputs": [
    {
     "data": {
      "image/png": "[encoded data removed]",
      "text/plain": [
       "<Figure size 1000x600 with 1 Axes>"
      ]
     },
     "metadata": {},
     "output_type": "display_data"
    }
   ],
   "source": [
    "plt.figure(figsize=(10, 6))\n",
    "sns.boxplot(x=\"Year\", y=\"Water Temp (?C)\", data=water_quality)\n",
    "plt.title(\"Water Temperature Over Years\")\n",
    "plt.xlabel(\"Year\")\n",
    "plt.ylabel(\"Water Temperature (°C)\")\n",
    "plt.xticks(rotation=45)\n",
    "plt.show()"
   ]
  },
  {
   "cell_type": "code",
   "execution_count": 17,
   "metadata": {},
   "outputs": [
    {
     "name": "stderr",
     "output_type": "stream",
     "text": [
      "/var/folders/lf/yzk5th4d3pl2wgt5ylqgv7bw0000gn/T/ipykernel_48352/676796266.py:2: FutureWarning: \n",
      "\n",
      "Passing `palette` without assigning `hue` is deprecated and will be removed in v0.14.0. Assign the `x` variable to `hue` and set `legend=False` for the same effect.\n",
      "\n",
      "  sns.barplot(x=\"iso3c\", y=\"trend\", data=deforestation.sort_values(\"trend\", ascending=False).head(20), palette=\"viridis\")\n"
     ]
    },
    {
     "data": {
      "image/png": "[encoded data removed]",
      "text/plain": [
       "<Figure size 1200x600 with 1 Axes>"
      ]
     },
     "metadata": {},
     "output_type": "display_data"
    }
   ],
   "source": [
    "plt.figure(figsize=(12, 6))\n",
    "sns.barplot(x=\"iso3c\", y=\"trend\", data=deforestation.sort_values(\"trend\", ascending=False).head(20), palette=\"viridis\")\n",
    "plt.title(\"Top 20 Countries with the Highest Forest Area Trend (2000-2020)\")\n",
    "plt.xlabel(\"Country Code\")\n",
    "plt.ylabel(\"Trend (%)\")\n",
    "plt.xticks(rotation=90)\n",
    "plt.show()"
   ]
  },
  {
   "cell_type": "code",
   "execution_count": null,
   "metadata": {},
   "outputs": [],
   "source": []
  }
 ],
 "metadata": {
  "kernelspec": {
   "display_name": "Python 3",
   "language": "python",
   "name": "python3"
  },
  "language_info": {
   "codemirror_mode": {
    "name": "ipython",
    "version": 3
   },
   "file_extension": ".py",
   "mimetype": "text/x-python",
   "name": "python",
   "nbconvert_exporter": "python",
   "pygments_lexer": "ipython3",
   "version": "3.12.3"
  }
 },
 "nbformat": 4,
 "nbformat_minor": 2
}
